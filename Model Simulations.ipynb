{
 "cells": [
  {
   "cell_type": "markdown",
   "id": "5e7b0618",
   "metadata": {},
   "source": [
    "## Interactive Simulation for ergodic character checking for multiplicative dynamics  "
   ]
  },
  {
   "cell_type": "markdown",
   "id": "cda094a7",
   "metadata": {},
   "source": [
    "<hr><hr>\n",
    "<img src='mul_dynamic.PNG'/>\n",
    "<hr>"
   ]
  },
  {
   "cell_type": "code",
   "execution_count": 16,
   "id": "99702c2a",
   "metadata": {},
   "outputs": [],
   "source": [
    "import numpy as np\n",
    "import pandas as pd\n",
    "import matplotlib.pyplot as plt\n",
    "import seaborn as sns\n",
    "import ipywidgets as widgets\n",
    "import random\n",
    "from ipywidgets import interactive,interact_manual\n",
    "from IPython.display import display\n"
   ]
  },
  {
   "cell_type": "code",
   "execution_count": 17,
   "id": "744c7e9a",
   "metadata": {},
   "outputs": [],
   "source": [
    "def func( ):\n",
    "    \n",
    "        return random.choice([0,1])\n",
    "#0-->tail\n",
    "#1-->head\n",
    "\n",
    "import math"
   ]
  },
  {
   "cell_type": "code",
   "execution_count": null,
   "id": "bc4455ca",
   "metadata": {},
   "outputs": [],
   "source": [
    "storage=[]\n",
    "def coin_simulation():\n",
    "    yes=input()\n",
    "    while int(yes)!=0:\n",
    "        yes=input()\n",
    "        for i in range(100):\n",
    "\n",
    "            temp=func()\n",
    "            storage.append(temp)\n",
    "    return storage\n",
    "# print(len(coin_simulation()))\n",
    "p=coin_simulation()\n",
    "#just give 1 as input and enter\n",
    "#then give 0 as input and enter"
   ]
  },
  {
   "cell_type": "code",
   "execution_count": null,
   "id": "ef33422c",
   "metadata": {},
   "outputs": [],
   "source": [
    "\n",
    "def run(init_wealth=1,percent_gain=0.5,percent_loss=0.4):\n",
    "        plt.figure(figsize=(7,7))\n",
    "\n",
    "        data=pd.DataFrame(columns=['time','wealth'])\n",
    "        data['time']=np.arange(1,len(p)+1)\n",
    "        data.iloc[[0],[1]] = init_wealth\n",
    "        for i in range(len(p)):\n",
    "            check=p[i]\n",
    "            #0-->head\n",
    "            #1-->tail\n",
    "            if i>=1:\n",
    "                if check==0:\n",
    "                    x=(1+percent_gain)*data['wealth'][i-1]\n",
    "                elif check==1:\n",
    "                    x=(1-percent_loss)*data['wealth'][i-1]\n",
    "                data.iloc[[i],[1]] =x\n",
    "        plt.plot(data['time'],data['wealth'])\n",
    "        data.to_csv('new.csv')\n",
    "#         display(data)\n",
    "        print(math.sqrt((1+percent_gain)*(1-percent_loss)))\n",
    "        print(((1+percent_gain)+(1-percent_loss))/2)\n",
    "widgets.interact(run,init_wealth=[100,1000],percent_gain=(0,0.99),percent_loss=(0,0.99))\n"
   ]
  },
  {
   "cell_type": "code",
   "execution_count": null,
   "id": "74c8a2ed",
   "metadata": {},
   "outputs": [],
   "source": [
    "data1=pd.read_csv('new.csv')\n",
    "l=[]\n",
    "for i in range(len(data1['wealth'])):\n",
    "    if i ==99:\n",
    "        break\n",
    "    l.append(data1['wealth'][i+1]/data1['wealth'][i])\n",
    "np.mean(l)"
   ]
  },
  {
   "cell_type": "code",
   "execution_count": null,
   "id": "b798d07c",
   "metadata": {},
   "outputs": [],
   "source": []
  }
 ],
 "metadata": {
  "kernelspec": {
   "display_name": "Python 3 (ipykernel)",
   "language": "python",
   "name": "python3"
  },
  "language_info": {
   "codemirror_mode": {
    "name": "ipython",
    "version": 3
   },
   "file_extension": ".py",
   "mimetype": "text/x-python",
   "name": "python",
   "nbconvert_exporter": "python",
   "pygments_lexer": "ipython3",
   "version": "3.10.5"
  }
 },
 "nbformat": 4,
 "nbformat_minor": 5
}
