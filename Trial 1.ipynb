{
 "cells": [
  {
   "cell_type": "markdown",
   "id": "9e36592f",
   "metadata": {},
   "source": [
    "# Run this cell at first (below cell) "
   ]
  },
  {
   "cell_type": "code",
   "execution_count": null,
   "id": "8c19dba5",
   "metadata": {},
   "outputs": [],
   "source": [
    "pip install -r requirements.txt"
   ]
  },
  {
   "cell_type": "markdown",
   "id": "b5063543",
   "metadata": {},
   "source": [
    "# Importing libraries "
   ]
  },
  {
   "cell_type": "code",
   "execution_count": 2,
   "id": "9f83c131",
   "metadata": {},
   "outputs": [],
   "source": [
    "import numpy\n",
    "import pandas\n",
    "import random\n",
    "import matplotlib.pyplot as plt\n",
    "import ipywidgets as widgets\n",
    "from IPython.display import display\n",
    "import seaborn as sns\n"
   ]
  },
  {
   "cell_type": "markdown",
   "id": "64ed7781",
   "metadata": {},
   "source": [
    "# Adding interactivity for the dynamics "
   ]
  },
  {
   "cell_type": "code",
   "execution_count": 19,
   "id": "7930cc8f",
   "metadata": {},
   "outputs": [],
   "source": [
    "def run(init_wealth=1,n=10):\n",
    "    for n in range(n):\n",
    "        data=pandas.DataFrame(columns=['time','wealth'])\n",
    "        data['time']=numpy.arange(1,53)\n",
    "        data.iloc[[0],[1]] = init_wealth\n",
    "        for i in range(len(data['time'])):\n",
    "            check=random.randint(0, 1)\n",
    "            #0-->head\n",
    "            #1-->tail\n",
    "            if i>=1:\n",
    "                if check==0:\n",
    "                    x=(1.5)*data['wealth'][i-1]\n",
    "        #             print(' check is ',check)\n",
    "                elif check==1:\n",
    "                    x=(0.6)*data['wealth'][i-1]\n",
    "        #             print(' check is ',check)\n",
    "                data.iloc[[i],[1]] =x\n",
    "        plt.plot(data['time'],data['wealth'])\n",
    "        plt.bar(data['time'],data['wealth'])"
   ]
  },
  {
   "cell_type": "code",
   "execution_count": 26,
   "id": "5bd54b22",
   "metadata": {},
   "outputs": [
    {
     "data": {
      "application/vnd.jupyter.widget-view+json": {
       "model_id": "3df1ed1f4adf4f07a78a2331b0c8b5ce",
       "version_major": 2,
       "version_minor": 0
      },
      "text/plain": [
       "interactive(children=(IntSlider(value=1, description='init_wealth', max=3, min=-1), IntSlider(value=10, descri…"
      ]
     },
     "metadata": {},
     "output_type": "display_data"
    },
    {
     "data": {
      "text/plain": [
       "<function __main__.run(init_wealth=1, a=10)>"
      ]
     },
     "execution_count": 26,
     "metadata": {},
     "output_type": "execute_result"
    }
   ],
   "source": [
    "widgets.interact(run,n=[1,2,3,4,5,6,7,8,9,10])\n"
   ]
  },
  {
   "cell_type": "code",
   "execution_count": null,
   "id": "270834c5",
   "metadata": {},
   "outputs": [],
   "source": []
  }
 ],
 "metadata": {
  "kernelspec": {
   "display_name": "Python 3 (ipykernel)",
   "language": "python",
   "name": "python3"
  },
  "language_info": {
   "codemirror_mode": {
    "name": "ipython",
    "version": 3
   },
   "file_extension": ".py",
   "mimetype": "text/x-python",
   "name": "python",
   "nbconvert_exporter": "python",
   "pygments_lexer": "ipython3",
   "version": "3.10.5"
  }
 },
 "nbformat": 4,
 "nbformat_minor": 5
}
